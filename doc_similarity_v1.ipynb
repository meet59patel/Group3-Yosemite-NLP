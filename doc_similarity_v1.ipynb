{
  "nbformat": 4,
  "nbformat_minor": 0,
  "metadata": {
    "colab": {
      "name": "doc_similarity_v1.ipynb",
      "provenance": [],
      "collapsed_sections": []
    },
    "kernelspec": {
      "name": "python3",
      "display_name": "Python 3"
    }
  },
  "cells": [
    {
      "cell_type": "code",
      "metadata": {
        "id": "l5DXq5uBtvzv"
      },
      "source": [
        "import pandas as pd\r\n",
        "import numpy as np\r\n",
        "from nltk.corpus import stopwords\r\n",
        "from nltk.corpus import wordnet as wn\r\n",
        "from nltk.corpus import stopwords  \r\n",
        "from nltk.tokenize import word_tokenize  \r\n",
        "import nltk\r\n",
        "import re\r\n",
        "from sklearn.feature_extraction.text import TfidfVectorizer \r\n",
        "from sklearn.metrics.pairwise import cosine_similarity\r\n",
        "from sklearn.metrics.pairwise import euclidean_distances\r\n",
        "from sklearn.metrics import jaccard_similarity_score\r\n",
        "from sklearn.feature_extraction.text import TfidfVectorizer \r\n",
        "!pip install -U sentence-transformers\r\n",
        "from sentence_transformers import SentenceTransformer\r\n",
        "from scipy.spatial import distance\r\n",
        "from nltk.corpus import stopwords\r\n",
        "import re\r\n",
        "!pip install language_tool_python\r\n",
        "import language_tool_python\r\n",
        "from itertools import chain, product    \r\n",
        "nltk.download('punkt')\r\n",
        "nltk.download('stopwords')\r\n",
        "nltk.download('wordnet')"
      ],
      "execution_count": null,
      "outputs": []
    },
    {
      "cell_type": "code",
      "metadata": {
        "id": "bMmf18-qxLgC"
      },
      "source": [
        "ref = \"Jesus is always around us\"\r\n",
        "ans = \"Jesus is my god\"\r\n",
        "ref = re.sub(r'[^A-Za-z0-9]+', ' ', ref)\r\n",
        "ans= re.sub(r'[^A-Za-z0-9]+', ' ', ans)\r\n",
        "a= word_tokenize(ans)\r\n",
        "b = word_tokenize(ref)\r\n",
        "marks =5\r\n",
        "# can be 5 , 10 or 15"
      ],
      "execution_count": 91,
      "outputs": []
    },
    {
      "cell_type": "code",
      "metadata": {
        "id": "1ADutZ0SHegq"
      },
      "source": [
        "tool = language_tool_python.LanguageTool('en-US')\r\n",
        "# use tokenizer only for cosine similarity\r\n",
        "sbert_model = SentenceTransformer('bert-base-nli-mean-tokens')\r\n",
        "stop_words = set(stopwords.words('english'))"
      ],
      "execution_count": 38,
      "outputs": []
    },
    {
      "cell_type": "code",
      "metadata": {
        "colab": {
          "base_uri": "https://localhost:8080/"
        },
        "id": "gCRkEcqo3Hex",
        "outputId": "1412c75c-d437-4189-9dc8-5b9e3a094ff8"
      },
      "source": [
        "ref_filtered = [w for w in b if not w in stop_words]\r\n",
        "ans_filtered = [w for w in a if not w in stop_words] \r\n",
        "ref_filtered1 = list(set(ref_filtered))\r\n",
        "ans_filtered1 = list(set(ans_filtered))\r\n",
        "\r\n",
        "ans_synonym = {}\r\n",
        "for i in ans_filtered1:\r\n",
        "  synonyms = wn.synsets(i)\r\n",
        "  lemmas = set(chain.from_iterable([word.lemma_names() for word in synonyms]))\r\n",
        "  ans_synonym.update({i:lemmas})\r\n",
        "print(ans_synonym)"
      ],
      "execution_count": 88,
      "outputs": [
        {
          "output_type": "stream",
          "text": [
            "{'god': {'divinity', 'God', 'god', 'Supreme_Being', 'idol', 'deity', 'immortal', 'graven_image'}, 'Jesus': {'Christ', 'Deliverer', 'Jesus_of_Nazareth', 'Jesus_Christ', 'Savior', 'Good_Shepherd', 'Saviour', 'the_Nazarene', 'Redeemer', 'Jesus'}}\n"
          ],
          "name": "stdout"
        }
      ]
    },
    {
      "cell_type": "code",
      "metadata": {
        "id": "mw4StsI4Cirh"
      },
      "source": [
        "def jaccard_similarity(list1, list2):\r\n",
        "    s1 = set(list1)\r\n",
        "    s2 = set(list2)\r\n",
        "    return float(len(s1.intersection(s2)) / len(s1.union(s2)))"
      ],
      "execution_count": 7,
      "outputs": []
    },
    {
      "cell_type": "code",
      "metadata": {
        "id": "jZ1TafNPE9F2"
      },
      "source": [
        "def grammar_error(list1):\r\n",
        "  matches = tool.check(list1)\r\n",
        "  grammar_score = max(0,1 - len(matches)/len(list1))\r\n",
        "  return float(grammar_score)\r\n",
        "    "
      ],
      "execution_count": 8,
      "outputs": []
    },
    {
      "cell_type": "code",
      "metadata": {
        "id": "qdad-El7xtsI"
      },
      "source": [
        "def bigram_similarity(ref,ans):\r\n",
        "  bigram_ref = [b for b in zip(ref.split(\" \")[:-1], ref.split(\" \")[1:])] \r\n",
        "  bigram_ans = [b for b in zip(ans.split(\" \")[:-1], ans.split(\" \")[1:])]\r\n",
        "  bigram_ref = set(bigram_ref)\r\n",
        "  bigram_ans = set(bigram_ans)\r\n",
        "  count=0\r\n",
        "  for i in bigram_ref:\r\n",
        "    if i in bigram_ans:\r\n",
        "      count=count+1\r\n",
        "  avg_length = (len(bigram_ans) + len(bigram_ref))/2\r\n",
        "  return float(count/avg_length)\r\n",
        "\r\n"
      ],
      "execution_count": 15,
      "outputs": []
    },
    {
      "cell_type": "code",
      "metadata": {
        "id": "9DJ2acVWTefJ"
      },
      "source": [
        "def synonym_similarity(ref_filtered , ans_filtered , ans_synonym):\r\n",
        "  \r\n",
        "  count = 0\r\n",
        "  ref_set = set(ref_filtered)\r\n",
        "  ans_set = ans_filtered\r\n",
        "  for i in ans_set:\r\n",
        "    if i in ref_set:\r\n",
        "      count=count+1\r\n",
        "    else:\r\n",
        "      temp_set = ans_synonym[i]\r\n",
        "      if i in temp_set:\r\n",
        "        count=count+1\r\n",
        "        break\r\n",
        "  avg_length = float((len(ref_filtered) + len(ans_filtered))/2)\r\n",
        "  return count/avg_length"
      ],
      "execution_count": 82,
      "outputs": []
    },
    {
      "cell_type": "code",
      "metadata": {
        "id": "5GorTeN_oxrZ",
        "colab": {
          "base_uri": "https://localhost:8080/"
        },
        "outputId": "8595016b-fc15-4911-dbc9-0b73806047fe"
      },
      "source": [
        "ref1 = sbert_model.encode(ref)\r\n",
        "ans1 = sbert_model.encode(ans)\r\n",
        "\r\n",
        "# cosine similarity\r\n",
        "cosine_value = 1- distance.cosine(ref1,ans1)\r\n",
        "\r\n",
        "\r\n",
        "# jaccard similarity\r\n",
        "jaccard_value = jaccard_similarity(a,b)\r\n",
        "\r\n",
        "# grammar check\r\n",
        "grammar_score = grammar_error(documents[0])\r\n",
        "\r\n",
        "# bigrams for structural similarity\r\n",
        "bigram_value = bigram_similarity(ref,ans)\r\n",
        "\r\n",
        "# synonym similarity\r\n",
        "synonym_value = synonym_similarity(ref_filtered,ans_filtered,ans_synonym)\r\n",
        " \r\n",
        "\r\n",
        "print(grammar_score)\r\n",
        "print(cosine_value,jaccard_value)\r\n",
        "print(bigram_value)\r\n",
        "print(synonym_value)"
      ],
      "execution_count": 89,
      "outputs": [
        {
          "output_type": "stream",
          "text": [
            "1.0\n",
            "0.6271205544471741 0.2857142857142857\n",
            "0.2857142857142857\n",
            "0.6666666666666666\n"
          ],
          "name": "stdout"
        }
      ]
    },
    {
      "cell_type": "code",
      "metadata": {
        "colab": {
          "base_uri": "https://localhost:8080/"
        },
        "id": "fYQNRjTy898q",
        "outputId": "51eb98f7-9796-412e-c5ba-05693ee9dcf6"
      },
      "source": [
        "final_marks=0\r\n",
        "if(marks==5):\r\n",
        "  final_marks = 1.8*synonym_value + 1.2*bigram_value + 0.5*grammar_score + 0.4*cosine_value + 1.1*jaccard_value\r\n",
        "if(marks==10):\r\n",
        "  final_marks = 4.2*synonym_value + 3.8*bigram_value + 0.5*grammar_score + 0.7*cosine_value + 0.8*jaccard_value\r\n",
        "if(marks==15):\r\n",
        "  final_marks = 7.3*synonym_value + 4.7*bigram_value + 0.6*grammar_score + 1.0*cosine_value + 1.4*jaccard_value\r\n",
        "print(final_marks)"
      ],
      "execution_count": 94,
      "outputs": [
        {
          "output_type": "stream",
          "text": [
            "2.607991078921726\n"
          ],
          "name": "stdout"
        }
      ]
    }
  ]
}