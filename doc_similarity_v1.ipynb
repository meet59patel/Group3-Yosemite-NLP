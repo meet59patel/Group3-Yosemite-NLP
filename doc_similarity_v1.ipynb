{
  "nbformat": 4,
  "nbformat_minor": 0,
  "metadata": {
    "colab": {
      "name": "doc_similarity_v1.ipynb",
      "provenance": [],
      "collapsed_sections": []
    },
    "kernelspec": {
      "name": "python3",
      "display_name": "Python 3.8.8 64-bit",
      "metadata": {
        "interpreter": {
          "hash": "3cdbf5b19819bb92b403f1ce1fc1f3b2d20651bbfcbc324a77331ad4a6d1eda0"
        }
      }
    }
  },
  "cells": [
    {
      "cell_type": "code",
      "metadata": {
        "id": "l5DXq5uBtvzv"
      },
      "source": [
        "import pandas as pd\n",
        "import numpy as np\n",
        "from nltk.corpus import stopwords\n",
        "from nltk.corpus import wordnet as wn\n",
        "from nltk.corpus import stopwords  \n",
        "from nltk.tokenize import word_tokenize  \n",
        "import nltk\n",
        "import re\n",
        "from sklearn.feature_extraction.text import TfidfVectorizer \n",
        "from sklearn.metrics.pairwise import cosine_similarity\n",
        "from sklearn.metrics.pairwise import euclidean_distances\n",
        "from sklearn.metrics import jaccard_similarity_score\n",
        "from sklearn.feature_extraction.text import TfidfVectorizer \n",
        "!pip install -U sentence-transformers\n",
        "from sentence_transformers import SentenceTransformer\n",
        "from scipy.spatial import distance\n",
        "from nltk.corpus import stopwords\n",
        "import re\n",
        "!pip install language_tool_python\n",
        "import language_tool_python\n",
        "from itertools import chain, product    \n",
        "nltk.download('punkt')\n",
        "nltk.download('stopwords')\n",
        "nltk.download('wordnet')"
      ],
      "execution_count": 1,
      "outputs": [
        {
          "output_type": "error",
          "ename": "ImportError",
          "evalue": "cannot import name 'jaccard_similarity_score' from 'sklearn.metrics' (C:\\Users\\Dell\\AppData\\Local\\Packages\\PythonSoftwareFoundation.Python.3.8_qbz5n2kfra8p0\\LocalCache\\local-packages\\Python38\\site-packages\\sklearn\\metrics\\__init__.py)",
          "traceback": [
            "\u001b[1;31m---------------------------------------------------------------------------\u001b[0m",
            "\u001b[1;31mImportError\u001b[0m                               Traceback (most recent call last)",
            "\u001b[1;32m<ipython-input-1-542f4dd37316>\u001b[0m in \u001b[0;36m<module>\u001b[1;34m\u001b[0m\n\u001b[0;32m     10\u001b[0m \u001b[1;32mfrom\u001b[0m \u001b[0msklearn\u001b[0m\u001b[1;33m.\u001b[0m\u001b[0mmetrics\u001b[0m\u001b[1;33m.\u001b[0m\u001b[0mpairwise\u001b[0m \u001b[1;32mimport\u001b[0m \u001b[0mcosine_similarity\u001b[0m\u001b[1;33m\u001b[0m\u001b[1;33m\u001b[0m\u001b[0m\n\u001b[0;32m     11\u001b[0m \u001b[1;32mfrom\u001b[0m \u001b[0msklearn\u001b[0m\u001b[1;33m.\u001b[0m\u001b[0mmetrics\u001b[0m\u001b[1;33m.\u001b[0m\u001b[0mpairwise\u001b[0m \u001b[1;32mimport\u001b[0m \u001b[0meuclidean_distances\u001b[0m\u001b[1;33m\u001b[0m\u001b[1;33m\u001b[0m\u001b[0m\n\u001b[1;32m---> 12\u001b[1;33m \u001b[1;32mfrom\u001b[0m \u001b[0msklearn\u001b[0m\u001b[1;33m.\u001b[0m\u001b[0mmetrics\u001b[0m \u001b[1;32mimport\u001b[0m \u001b[0mjaccard_similarity_score\u001b[0m\u001b[1;33m\u001b[0m\u001b[1;33m\u001b[0m\u001b[0m\n\u001b[0m\u001b[0;32m     13\u001b[0m \u001b[1;32mfrom\u001b[0m \u001b[0msklearn\u001b[0m\u001b[1;33m.\u001b[0m\u001b[0mfeature_extraction\u001b[0m\u001b[1;33m.\u001b[0m\u001b[0mtext\u001b[0m \u001b[1;32mimport\u001b[0m \u001b[0mTfidfVectorizer\u001b[0m\u001b[1;33m\u001b[0m\u001b[1;33m\u001b[0m\u001b[0m\n\u001b[0;32m     14\u001b[0m \u001b[0mget_ipython\u001b[0m\u001b[1;33m(\u001b[0m\u001b[1;33m)\u001b[0m\u001b[1;33m.\u001b[0m\u001b[0msystem\u001b[0m\u001b[1;33m(\u001b[0m\u001b[1;34m'pip install -U sentence-transformers'\u001b[0m\u001b[1;33m)\u001b[0m\u001b[1;33m\u001b[0m\u001b[1;33m\u001b[0m\u001b[0m\n",
            "\u001b[1;31mImportError\u001b[0m: cannot import name 'jaccard_similarity_score' from 'sklearn.metrics' (C:\\Users\\Dell\\AppData\\Local\\Packages\\PythonSoftwareFoundation.Python.3.8_qbz5n2kfra8p0\\LocalCache\\local-packages\\Python38\\site-packages\\sklearn\\metrics\\__init__.py)"
          ]
        }
      ]
    },
    {
      "cell_type": "code",
      "metadata": {
        "id": "bMmf18-qxLgC"
      },
      "source": [
        "ref = \"Jesus is always around us\"\r\n",
        "ans = \"Jesus is my god\"\r\n",
        "ref = re.sub(r'[^A-Za-z0-9]+', ' ', ref)\r\n",
        "ans= re.sub(r'[^A-Za-z0-9]+', ' ', ans)\r\n",
        "a= word_tokenize(ans)\r\n",
        "b = word_tokenize(ref)\r\n",
        "marks =5\r\n",
        "# can be 5 , 10 or 15"
      ],
      "execution_count": 91,
      "outputs": []
    },
    {
      "cell_type": "code",
      "metadata": {
        "id": "1ADutZ0SHegq"
      },
      "source": [
        "tool = language_tool_python.LanguageTool('en-US')\r\n",
        "# use tokenizer only for cosine similarity\r\n",
        "sbert_model = SentenceTransformer('bert-base-nli-mean-tokens')\r\n",
        "stop_words = set(stopwords.words('english'))"
      ],
      "execution_count": 38,
      "outputs": []
    },
    {
      "cell_type": "code",
      "metadata": {
        "colab": {
          "base_uri": "https://localhost:8080/"
        },
        "id": "gCRkEcqo3Hex",
        "outputId": "1412c75c-d437-4189-9dc8-5b9e3a094ff8"
      },
      "source": [
        "ref_filtered = [w for w in b if not w in stop_words]\r\n",
        "ans_filtered = [w for w in a if not w in stop_words] \r\n",
        "ref_filtered1 = list(set(ref_filtered))\r\n",
        "ans_filtered1 = list(set(ans_filtered))\r\n",
        "\r\n",
        "ans_synonym = {}\r\n",
        "for i in ans_filtered1:\r\n",
        "  synonyms = wn.synsets(i)\r\n",
        "  lemmas = set(chain.from_iterable([word.lemma_names() for word in synonyms]))\r\n",
        "  ans_synonym.update({i:lemmas})\r\n",
        "\r\n",
        "print(ans_synonym)"
      ],
      "execution_count": 88,
      "outputs": [
        {
          "output_type": "stream",
          "text": [
            "{'god': {'divinity', 'God', 'god', 'Supreme_Being', 'idol', 'deity', 'immortal', 'graven_image'}, 'Jesus': {'Christ', 'Deliverer', 'Jesus_of_Nazareth', 'Jesus_Christ', 'Savior', 'Good_Shepherd', 'Saviour', 'the_Nazarene', 'Redeemer', 'Jesus'}}\n"
          ],
          "name": "stdout"
        }
      ]
    },
    {
      "cell_type": "code",
      "metadata": {
        "id": "mw4StsI4Cirh"
      },
      "source": [
        "def jaccard_similarity(list1, list2):\r\n",
        "    s1 = set(list1)\r\n",
        "    s2 = set(list2)\r\n",
        "    return float(len(s1.intersection(s2)) / len(s1.union(s2)))"
      ],
      "execution_count": 7,
      "outputs": []
    },
    {
      "cell_type": "code",
      "metadata": {
        "id": "jZ1TafNPE9F2"
      },
      "source": [
        "def grammar_error(list1):\r\n",
        "  matches = tool.check(list1)\r\n",
        "  grammar_score = max(0,1 - len(matches)/len(list1))\r\n",
        "  return float(grammar_score)\r\n",
        "    "
      ],
      "execution_count": 8,
      "outputs": []
    },
    {
      "cell_type": "code",
      "metadata": {
        "id": "qdad-El7xtsI"
      },
      "source": [
        "def bigram_similarity(ref,ans):\r\n",
        "  bigram_ref = [b for b in zip(ref.split(\" \")[:-1], ref.split(\" \")[1:])] \r\n",
        "  bigram_ans = [b for b in zip(ans.split(\" \")[:-1], ans.split(\" \")[1:])]\r\n",
        "  bigram_ref = set(bigram_ref)\r\n",
        "  bigram_ans = set(bigram_ans)\r\n",
        "  count=0\r\n",
        "  for i in bigram_ref:\r\n",
        "    if i in bigram_ans:\r\n",
        "      count=count+1\r\n",
        "  avg_length = (len(bigram_ans) + len(bigram_ref))/2\r\n",
        "  return float(count/avg_length)\r\n",
        "\r\n"
      ],
      "execution_count": 15,
      "outputs": []
    },
    {
      "cell_type": "code",
      "metadata": {
        "id": "9DJ2acVWTefJ"
      },
      "source": [
        "def synonym_similarity(ref_filtered , ans_filtered , ans_synonym):\r\n",
        "  \r\n",
        "  count = 0\r\n",
        "  ref_set = set(ref_filtered)\r\n",
        "  ans_set = ans_filtered\r\n",
        "  for i in ans_set:\r\n",
        "    if i in ref_set:\r\n",
        "      count=count+1\r\n",
        "    else:\r\n",
        "      temp_set = ans_synonym[i]\r\n",
        "      if i in temp_set:\r\n",
        "        count=count+1\r\n",
        "        break\r\n",
        "  avg_length = float((len(ref_filtered) + len(ans_filtered))/2)\r\n",
        "  return count/avg_length"
      ],
      "execution_count": 82,
      "outputs": []
    },
    {
      "cell_type": "code",
      "metadata": {
        "id": "5GorTeN_oxrZ",
        "colab": {
          "base_uri": "https://localhost:8080/"
        },
        "outputId": "8595016b-fc15-4911-dbc9-0b73806047fe"
      },
      "source": [
        "ref1 = sbert_model.encode(ref)\r\n",
        "ans1 = sbert_model.encode(ans)\r\n",
        "\r\n",
        "# cosine similarity\r\n",
        "cosine_value = 1- distance.cosine(ref1,ans1)\r\n",
        "\r\n",
        "\r\n",
        "# jaccard similarity\r\n",
        "jaccard_value = jaccard_similarity(a,b)\r\n",
        "\r\n",
        "# grammar check\r\n",
        "grammar_score = grammar_error(documents[0])\r\n",
        "\r\n",
        "# bigrams for structural similarity\r\n",
        "bigram_value = bigram_similarity(ref,ans)\r\n",
        "\r\n",
        "# synonym similarity\r\n",
        "synonym_value = synonym_similarity(ref_filtered,ans_filtered,ans_synonym)\r\n",
        " \r\n",
        "\r\n",
        "print(grammar_score)\r\n",
        "print(cosine_value,jaccard_value)\r\n",
        "print(bigram_value)\r\n",
        "print(synonym_value)"
      ],
      "execution_count": 89,
      "outputs": [
        {
          "output_type": "stream",
          "text": [
            "1.0\n",
            "0.6271205544471741 0.2857142857142857\n",
            "0.2857142857142857\n",
            "0.6666666666666666\n"
          ],
          "name": "stdout"
        }
      ]
    },
    {
      "cell_type": "code",
      "metadata": {
        "colab": {
          "base_uri": "https://localhost:8080/"
        },
        "id": "fYQNRjTy898q",
        "outputId": "51eb98f7-9796-412e-c5ba-05693ee9dcf6"
      },
      "source": [
        "final_marks=0\r\n",
        "if(marks==5):\r\n",
        "  final_marks = 1.8*synonym_value + 1.2*bigram_value + 0.5*grammar_score + 0.4*cosine_value + 1.1*jaccard_value\r\n",
        "if(marks==10):\r\n",
        "  final_marks = 4.2*synonym_value + 3.8*bigram_value + 0.5*grammar_score + 0.7*cosine_value + 0.8*jaccard_value\r\n",
        "if(marks==15):\r\n",
        "  final_marks = 7.3*synonym_value + 4.7*bigram_value + 0.6*grammar_score + 1.0*cosine_value + 1.4*jaccard_value\r\n",
        "print(final_marks)"
      ],
      "execution_count": 94,
      "outputs": [
        {
          "output_type": "stream",
          "text": [
            "2.607991078921726\n"
          ],
          "name": "stdout"
        }
      ]
    }
  ]
}